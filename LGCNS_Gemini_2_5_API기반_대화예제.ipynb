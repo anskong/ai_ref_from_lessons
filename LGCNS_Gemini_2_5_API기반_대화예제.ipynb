{
  "nbformat": 4,
  "nbformat_minor": 0,
  "metadata": {
    "colab": {
      "provenance": [],
      "include_colab_link": true
    },
    "kernelspec": {
      "name": "python3",
      "display_name": "Python 3"
    },
    "language_info": {
      "name": "python"
    }
  },
  "cells": [
    {
      "cell_type": "markdown",
      "metadata": {
        "id": "view-in-github",
        "colab_type": "text"
      },
      "source": [
        "<a href=\"https://colab.research.google.com/github/anskong/ai_ref_from_lessons/blob/main/LGCNS_Gemini_2_5_API%EA%B8%B0%EB%B0%98_%EB%8C%80%ED%99%94%EC%98%88%EC%A0%9C.ipynb\" target=\"_parent\"><img src=\"https://colab.research.google.com/assets/colab-badge.svg\" alt=\"Open In Colab\"/></a>"
      ]
    },
    {
      "cell_type": "markdown",
      "source": [
        "# Gemini API 사용한 대화 처리"
      ],
      "metadata": {
        "id": "2vs55Tu6sZaI"
      }
    },
    {
      "cell_type": "code",
      "execution_count": null,
      "metadata": {
        "id": "nqTFzDl9sYfk"
      },
      "outputs": [],
      "source": [
        "# 1) 라이브러리 설치\n",
        "!pip install google-genai"
      ]
    },
    {
      "cell_type": "code",
      "source": [
        "# 2) 환경변수에서 API 키 읽기 (Tools > Secrets 에서 설정)\n",
        "import os\n",
        "from google.colab import userdata\n",
        "\n",
        "# API 키 등록\n",
        "os.environ[\"GOOGLE_API_KEY\"] = userdata.get(\"GOOGLE_API_KEY\")\n",
        "API_KEY = os.getenv(\"GOOGLE_API_KEY\")\n",
        "\n",
        "# 3) SDK 임포트\n",
        "from google import genai\n",
        "from google.genai import types\n",
        "\n",
        "client = genai.Client(api_key=API_KEY)\n",
        "\n",
        "# 4) GenerateContentConfig 정의\n",
        "config = types.GenerateContentConfig(\n",
        "    temperature=0.7,\n",
        "    top_p=0.9,\n",
        "    max_output_tokens=150,\n",
        "    stop_sequences=[\"。\", \".\"],\n",
        ")\n",
        "\n",
        "# 5) 대화형 contents 준비 (strings → Part.from_text)\n",
        "contents = [\n",
        "    types.Content(\n",
        "        role=\"user\",\n",
        "        parts=[\n",
        "            types.Part.from_text(text=\"가장 오래된 프로그래밍 언어는 무엇입니까?\")\n",
        "        ],\n",
        "    ),\n",
        "    types.Content(\n",
        "        role=\"model\",\n",
        "        parts=[\n",
        "            types.Part.from_text(\n",
        "                text=\"가장 오래된 프로그래밍 언어 중 하나는 1950년대 초반에 개발된 FORTRAN입니다.\"\n",
        "            )\n",
        "        ],\n",
        "    ),\n",
        "    types.Content(\n",
        "        role=\"user\",\n",
        "        parts=[types.Part.from_text(text=\"누가 개발했습니까?\")],\n",
        "    ),\n",
        "]\n",
        "\n",
        "# 6) generate_content 호출\n",
        "response = client.models.generate_content(\n",
        "    model=\"gemini-2.0-flash-lite\",\n",
        "    contents=contents,\n",
        "    config=config,\n",
        ")\n",
        "\n",
        "# 7) 응답 출력\n",
        "print(\"=== 모델 응답 ===\")\n",
        "print(response.text)"
      ],
      "metadata": {
        "colab": {
          "base_uri": "https://localhost:8080/"
        },
        "id": "bRwB9anZszib",
        "outputId": "03aac5bd-0274-4765-cad4-4ccb19988fc8"
      },
      "execution_count": null,
      "outputs": [
        {
          "output_type": "stream",
          "name": "stdout",
          "text": [
            "=== 모델 응답 ===\n",
            "FORTRAN은 IBM에서 존 배커스(John Backus)가 이끄는 팀에 의해 개발되었습니다\n"
          ]
        }
      ]
    },
    {
      "cell_type": "markdown",
      "source": [
        "# Gemini API를 이용한 멀티모달 예제"
      ],
      "metadata": {
        "id": "DMkFV2qgzfkc"
      }
    },
    {
      "cell_type": "code",
      "source": [
        "# 1) 라이브러리 설치\n",
        "!pip install google-genai"
      ],
      "metadata": {
        "id": "raQCAlOHzlLE"
      },
      "execution_count": null,
      "outputs": []
    },
    {
      "cell_type": "code",
      "source": [
        "import os\n",
        "from google.colab import userdata\n",
        "\n",
        "# 2) API 키 등록\n",
        "os.environ[\"GOOGLE_API_KEY\"] = userdata.get(\"GOOGLE_API_KEY\")\n",
        "API_KEY = os.getenv(\"GOOGLE_API_KEY\")\n",
        "\n",
        "# 3) SDK 임포트 및 클라이언트 생성\n",
        "from google import genai\n",
        "from google.genai import types\n",
        "\n",
        "client = genai.Client(api_key=API_KEY)\n",
        "\n",
        "# 4) 파일 업로드 (Colab 전용)\n",
        "from google.colab import files\n",
        "uploaded = files.upload()  # 업로드 창이 뜹니다\n",
        "filename = next(iter(uploaded.keys()))\n",
        "print(f\"Uploaded file: {filename}\")\n",
        "\n",
        "# 5) 이미지 바이트와 Part 객체 생성\n",
        "with open(filename, \"rb\") as f:\n",
        "    image_bytes = f.read()\n",
        "\n",
        "parts = [\n",
        "    types.Part.from_text(text=\"이 이미지를 설명하십시오.\"),\n",
        "    types.Part.from_bytes(data=image_bytes, mime_type=\"image/jpeg\"),\n",
        "]\n",
        "\n",
        "# 6) contents 준비\n",
        "contents = [ types.Content(role=\"user\", parts=parts) ]\n",
        "\n",
        "# 7) 모델 호출 (별도 config 없이 기본 설정 사용)\n",
        "response = client.models.generate_content(\n",
        "    model=\"gemini-1.5-flash-latest\",\n",
        "    contents=contents,\n",
        ")\n",
        "\n",
        "# 8) 결과 출력\n",
        "print(\"=== 모델 응답 ===\")\n",
        "print(response.text)"
      ],
      "metadata": {
        "id": "Px-GDrqsznzA"
      },
      "execution_count": null,
      "outputs": []
    }
  ]
}