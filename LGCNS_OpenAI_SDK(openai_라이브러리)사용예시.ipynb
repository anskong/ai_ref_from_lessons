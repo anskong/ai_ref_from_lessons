{
  "nbformat": 4,
  "nbformat_minor": 0,
  "metadata": {
    "colab": {
      "provenance": [],
      "include_colab_link": true
    },
    "kernelspec": {
      "name": "python3",
      "display_name": "Python 3"
    },
    "language_info": {
      "name": "python"
    }
  },
  "cells": [
    {
      "cell_type": "markdown",
      "metadata": {
        "id": "view-in-github",
        "colab_type": "text"
      },
      "source": [
        "<a href=\"https://colab.research.google.com/github/anskong/ai_rag_practice/blob/main/LGCNS_OpenAI_SDK(openai_%EB%9D%BC%EC%9D%B4%EB%B8%8C%EB%9F%AC%EB%A6%AC)%EC%82%AC%EC%9A%A9%EC%98%88%EC%8B%9C.ipynb\" target=\"_parent\"><img src=\"https://colab.research.google.com/assets/colab-badge.svg\" alt=\"Open In Colab\"/></a>"
      ]
    },
    {
      "cell_type": "markdown",
      "source": [
        "# OpenAI SDK(Python openai 라이브러리) 사용 예시"
      ],
      "metadata": {
        "id": "0HnC1HK_9UDe"
      }
    },
    {
      "cell_type": "code",
      "execution_count": null,
      "metadata": {
        "colab": {
          "base_uri": "https://localhost:8080/"
        },
        "id": "-HIV1MdQ9M4v",
        "outputId": "2e01a4ac-c58b-4003-c22c-d380ccbcfdc0"
      },
      "outputs": [
        {
          "output_type": "stream",
          "name": "stdout",
          "text": [
            "Requirement already satisfied: openai in /usr/local/lib/python3.11/dist-packages (1.78.1)\n",
            "Collecting openai\n",
            "  Downloading openai-1.82.0-py3-none-any.whl.metadata (25 kB)\n",
            "Requirement already satisfied: anyio<5,>=3.5.0 in /usr/local/lib/python3.11/dist-packages (from openai) (4.9.0)\n",
            "Requirement already satisfied: distro<2,>=1.7.0 in /usr/local/lib/python3.11/dist-packages (from openai) (1.9.0)\n",
            "Requirement already satisfied: httpx<1,>=0.23.0 in /usr/local/lib/python3.11/dist-packages (from openai) (0.28.1)\n",
            "Requirement already satisfied: jiter<1,>=0.4.0 in /usr/local/lib/python3.11/dist-packages (from openai) (0.9.0)\n",
            "Requirement already satisfied: pydantic<3,>=1.9.0 in /usr/local/lib/python3.11/dist-packages (from openai) (2.11.4)\n",
            "Requirement already satisfied: sniffio in /usr/local/lib/python3.11/dist-packages (from openai) (1.3.1)\n",
            "Requirement already satisfied: tqdm>4 in /usr/local/lib/python3.11/dist-packages (from openai) (4.67.1)\n",
            "Requirement already satisfied: typing-extensions<5,>=4.11 in /usr/local/lib/python3.11/dist-packages (from openai) (4.13.2)\n",
            "Requirement already satisfied: idna>=2.8 in /usr/local/lib/python3.11/dist-packages (from anyio<5,>=3.5.0->openai) (3.10)\n",
            "Requirement already satisfied: certifi in /usr/local/lib/python3.11/dist-packages (from httpx<1,>=0.23.0->openai) (2025.4.26)\n",
            "Requirement already satisfied: httpcore==1.* in /usr/local/lib/python3.11/dist-packages (from httpx<1,>=0.23.0->openai) (1.0.9)\n",
            "Requirement already satisfied: h11>=0.16 in /usr/local/lib/python3.11/dist-packages (from httpcore==1.*->httpx<1,>=0.23.0->openai) (0.16.0)\n",
            "Requirement already satisfied: annotated-types>=0.6.0 in /usr/local/lib/python3.11/dist-packages (from pydantic<3,>=1.9.0->openai) (0.7.0)\n",
            "Requirement already satisfied: pydantic-core==2.33.2 in /usr/local/lib/python3.11/dist-packages (from pydantic<3,>=1.9.0->openai) (2.33.2)\n",
            "Requirement already satisfied: typing-inspection>=0.4.0 in /usr/local/lib/python3.11/dist-packages (from pydantic<3,>=1.9.0->openai) (0.4.0)\n",
            "Downloading openai-1.82.0-py3-none-any.whl (720 kB)\n",
            "\u001b[2K   \u001b[90m━━━━━━━━━━━━━━━━━━━━━━━━━━━━━━━━━━━━━━━━\u001b[0m \u001b[32m720.4/720.4 kB\u001b[0m \u001b[31m11.1 MB/s\u001b[0m eta \u001b[36m0:00:00\u001b[0m\n",
            "\u001b[?25hInstalling collected packages: openai\n",
            "  Attempting uninstall: openai\n",
            "    Found existing installation: openai 1.78.1\n",
            "    Uninstalling openai-1.78.1:\n",
            "      Successfully uninstalled openai-1.78.1\n",
            "Successfully installed openai-1.82.0\n"
          ]
        }
      ],
      "source": [
        "# 1. openai 패키지 설치 (최초 1회만 실행)\n",
        "!pip install --upgrade openai"
      ]
    },
    {
      "cell_type": "code",
      "source": [
        "# 2. API 키 입력받기\n",
        "import getpass\n",
        "import openai\n",
        "\n",
        "openai.api_key = getpass.getpass('OpenAI API키 입력: ')\n",
        "\n",
        "# 3. 메시지 설정\n",
        "messages = [\n",
        "    {\"role\": \"system\", \"content\": \"You are a helpful assistant.\"},\n",
        "    {\"role\": \"user\", \"content\": \"안녕하세요.\"},\n",
        "]\n",
        "\n",
        "# 4. API 요청 및 응답 처리\n",
        "try:\n",
        "    response = openai.chat.completions.create(\n",
        "        model=\"gpt-4o-mini\",\n",
        "        messages=messages\n",
        "    )\n",
        "    assistant_reply = response.choices[0].message.content\n",
        "    print(\"Assistant:\", assistant_reply)\n",
        "except Exception as e:\n",
        "    print(f\"An error occurred: {e}\")"
      ],
      "metadata": {
        "colab": {
          "base_uri": "https://localhost:8080/"
        },
        "id": "jCu36bFz9f6d",
        "outputId": "a2378d3e-ca5f-4139-a0d5-be7d7eef1f9e"
      },
      "execution_count": null,
      "outputs": [
        {
          "output_type": "stream",
          "name": "stdout",
          "text": [
            "OpenAI API키 입력: ··········\n",
            "Assistant: 안녕하세요! 어떻게 도와드릴까요?\n"
          ]
        }
      ]
    },
    {
      "cell_type": "markdown",
      "source": [
        "# Python SDK(openai) 스트리밍 + 고급 파라미터 설정 예시"
      ],
      "metadata": {
        "id": "AbUe3a5799L8"
      }
    },
    {
      "cell_type": "code",
      "source": [
        "# 2. API 키 입력받기\n",
        "import getpass\n",
        "import openai\n",
        "\n",
        "openai.api_key = getpass.getpass('Enter your OpenAI API key: ')\n",
        "\n",
        "# 3. 메시지 설정\n",
        "messages = [\n",
        "    {\"role\": \"system\", \"content\": \"You are a helpful assistant.\"},\n",
        "    {\"role\": \"user\", \"content\": \"안녕하세요. 오늘 날씨는 어때요?\"},\n",
        "]\n",
        "\n",
        "# 4. 스트리밍 응답 처리 및 고급 설정 적용\n",
        "try:\n",
        "    response = openai.chat.completions.create(\n",
        "        model=\"gpt-4o-mini\",\n",
        "        messages=messages,\n",
        "        temperature=0.7,            # 창의성 조절 (0.0 ~ 2.0)\n",
        "        max_tokens=200,             # 출력 최대 길이 제한\n",
        "        stream=True                 # 스트리밍 응답 설정\n",
        "    )\n",
        "\n",
        "    print(\"Assistant (streaming): \", end=\"\", flush=True)\n",
        "    for chunk in response:\n",
        "        if chunk.choices[0].delta.content:\n",
        "            print(chunk.choices[0].delta.content, end=\"\", flush=True)\n",
        "except Exception as e:\n",
        "    print(f\"\\nAn error occurred: {e}\")"
      ],
      "metadata": {
        "colab": {
          "base_uri": "https://localhost:8080/"
        },
        "id": "Ls4E24Ac96GQ",
        "outputId": "1ca1ef7f-48ba-4178-82a5-d6f705ce5136"
      },
      "execution_count": null,
      "outputs": [
        {
          "output_type": "stream",
          "name": "stdout",
          "text": [
            "Enter your OpenAI API key: ··········\n",
            "Assistant (streaming): 안녕하세요! 오늘 날씨에 대한 정보는 실시간으로 확인할 수 없지만, 지역에 따라 다르기 때문에 기상청이나 날씨 앱을 통해 확인해 보시는 것이 좋습니다. 어떤 지역의 날씨가 궁금하신가요? 제가 일반적인 날씨 정보나 계절에 대한 조언을 드릴 수 있습니다."
          ]
        }
      ]
    }
  ]
}