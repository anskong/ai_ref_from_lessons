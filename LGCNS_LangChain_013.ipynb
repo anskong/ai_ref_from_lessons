{
  "nbformat": 4,
  "nbformat_minor": 0,
  "metadata": {
    "colab": {
      "provenance": [],
      "include_colab_link": true
    },
    "kernelspec": {
      "name": "python3",
      "display_name": "Python 3"
    },
    "language_info": {
      "name": "python"
    }
  },
  "cells": [
    {
      "cell_type": "markdown",
      "metadata": {
        "id": "view-in-github",
        "colab_type": "text"
      },
      "source": [
        "<a href=\"https://colab.research.google.com/github/anskong/ai_ref_from_lessons/blob/main/LGCNS_LangChain_013.ipynb\" target=\"_parent\"><img src=\"https://colab.research.google.com/assets/colab-badge.svg\" alt=\"Open In Colab\"/></a>"
      ]
    },
    {
      "cell_type": "markdown",
      "source": [
        "# 벡터스토어에 내장벡터 저장 (PDF 업로드 → 분할 → 임베딩 → Chroma 저장 및 검색)\n"
      ],
      "metadata": {
        "id": "uamA9qwxczo4"
      }
    },
    {
      "cell_type": "code",
      "execution_count": null,
      "metadata": {
        "id": "_SnQcp39cxuk"
      },
      "outputs": [],
      "source": [
        "# 1) 필수 패키지 설치\n",
        "!pip install --quiet --upgrade \"langchain-core>=0.3.0\" \"langchain-community>=0.0.30\" \"langchain-text-splitters>=0.0.1\" \"langchain-chroma>=0.0.5\" \"langchain-openai>=0.0.8\" openai pypdf chromadb"
      ]
    },
    {
      "cell_type": "code",
      "source": [
        "# 2) Colab 파일 업로드\n",
        "from google.colab import files\n",
        "import os\n",
        "from google.colab import userdata\n",
        "\n",
        "# 3) OPENAI API 키 불러오기\n",
        "os.environ[\"OPENAI_API_KEY\"] = userdata.get(\"OPENAI_API_KEY\")\n",
        "OPENAI_API_KEY = os.getenv(\"OPENAI_API_KEY\")\n",
        "\n",
        "print(\"📤 PDF 파일을 업로드하세요...\")\n",
        "uploaded = files.upload()\n",
        "filename = list(uploaded.keys())[0]  # 업로드된 파일 이름\n",
        "\n",
        "# 4) LangChain 모듈 임포트\n",
        "from langchain_community.document_loaders import PyPDFLoader\n",
        "from langchain_text_splitters import RecursiveCharacterTextSplitter\n",
        "from langchain_openai import OpenAIEmbeddings\n",
        "from langchain_chroma import Chroma\n",
        "\n",
        "# 5) PDF 로딩\n",
        "loader = PyPDFLoader(filename)\n",
        "pages = loader.load()\n",
        "\n",
        "# 6) 텍스트 분할\n",
        "splitter = RecursiveCharacterTextSplitter(chunk_size=2000, chunk_overlap=400)\n",
        "splits = splitter.split_documents(pages)\n",
        "\n",
        "# 7) 임베딩 모델 정의\n",
        "embedding = OpenAIEmbeddings(\n",
        "    model=\"text-embedding-3-small\",\n",
        "    openai_api_key=OPENAI_API_KEY\n",
        ")\n",
        "\n",
        "# 8) Chroma 벡터스토어 생성 및 저장 (임시 디렉토리 사용)\n",
        "vectorstore = Chroma.from_documents(\n",
        "    documents=splits,\n",
        "    embedding=embedding,\n",
        "    persist_directory=\"./chroma_db\"\n",
        ")\n",
        "\n",
        "# 9) 유사도 기반 검색\n",
        "query = \"생성형AI의 최신 동향은?\"\n",
        "docs = vectorstore.similarity_search(query, k=3)\n",
        "\n",
        "# 10) 검색 결과 출력\n",
        "for i, doc in enumerate(docs):\n",
        "    print(f\"\\n--- 유사 문서 {i+1} ---\")\n",
        "    print(doc.page_content[:300])"
      ],
      "metadata": {
        "id": "NU1q-zK_c8m7"
      },
      "execution_count": null,
      "outputs": []
    }
  ]
}