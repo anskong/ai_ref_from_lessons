{
  "nbformat": 4,
  "nbformat_minor": 0,
  "metadata": {
    "colab": {
      "provenance": [],
      "include_colab_link": true
    },
    "kernelspec": {
      "name": "python3",
      "display_name": "Python 3"
    },
    "language_info": {
      "name": "python"
    }
  },
  "cells": [
    {
      "cell_type": "markdown",
      "metadata": {
        "id": "view-in-github",
        "colab_type": "text"
      },
      "source": [
        "<a href=\"https://colab.research.google.com/github/anskong/ai_ref_from_lessons/blob/main/LGCNS_LangChain_014.ipynb\" target=\"_parent\"><img src=\"https://colab.research.google.com/assets/colab-badge.svg\" alt=\"Open In Colab\"/></a>"
      ]
    },
    {
      "cell_type": "markdown",
      "source": [
        "# 리트리버를 이용한 관련 정보 검색 (PDF 업로드 → 정보 검색 (Retriever 기반)"
      ],
      "metadata": {
        "id": "eAJnURDykj6f"
      }
    },
    {
      "cell_type": "code",
      "execution_count": null,
      "metadata": {
        "id": "2YVd26qrkgi3"
      },
      "outputs": [],
      "source": [
        "# 1) 필수 패키지 설치\n",
        "!pip install --quiet --upgrade \"langchain-core>=0.3.0\" \"langchain-community>=0.0.30\" \"langchain-openai>=0.0.8\" \"langchain-text-splitters>=0.0.1\" \"langchain-chroma>=0.0.5\" openai pypdf chromadb"
      ]
    },
    {
      "cell_type": "code",
      "source": [
        "# 2) Colab 파일 업로드\n",
        "from google.colab import files\n",
        "import os\n",
        "from google.colab import userdata\n",
        "\n",
        "# 3) OPENAI API 키 불러오기\n",
        "os.environ[\"OPENAI_API_KEY\"] = userdata.get(\"OPENAI_API_KEY\")\n",
        "OPENAI_API_KEY = os.getenv(\"OPENAI_API_KEY\")\n",
        "\n",
        "print(\"📤 PDF 파일을 업로드하세요...\")\n",
        "uploaded = files.upload()\n",
        "filename = list(uploaded.keys())[0]\n",
        "\n",
        "# 4) LangChain 모듈 임포트\n",
        "from langchain_community.document_loaders import PyPDFLoader\n",
        "from langchain_text_splitters import RecursiveCharacterTextSplitter\n",
        "from langchain_openai import OpenAIEmbeddings\n",
        "from langchain_chroma import Chroma\n",
        "\n",
        "# 5) PDF 로드 및 텍스트 분할\n",
        "loader = PyPDFLoader(filename)\n",
        "pages = loader.load()\n",
        "\n",
        "splitter = RecursiveCharacterTextSplitter(chunk_size=2000, chunk_overlap=400)\n",
        "splits = splitter.split_documents(pages)\n",
        "\n",
        "# 6) 임베딩 및 벡터스토어 저장\n",
        "embedding = OpenAIEmbeddings(model=\"text-embedding-3-small\", openai_api_key=OPENAI_API_KEY)\n",
        "\n",
        "vectorstore = Chroma.from_documents(\n",
        "    documents=splits,\n",
        "    embedding=embedding,\n",
        "    persist_directory=\"./chroma_db\"  # 로컬 저장 디렉토리\n",
        ")\n",
        "\n",
        "# 7) 벡터스토어를 리트리버로 변환\n",
        "retriever = vectorstore.as_retriever(search_kwargs={\"k\": 3})\n",
        "\n",
        "# 8) 검색 수행\n",
        "query = \"생성형 AI의 최신동향은?\"\n",
        "docs = retriever.invoke(query)\n",
        "\n",
        "# 9) 결과 출력\n",
        "for i, doc in enumerate(docs):\n",
        "    print(f\"\\n--- 유사 문서 {i+1} ---\")\n",
        "    print(doc.page_content[:300])"
      ],
      "metadata": {
        "id": "2hG8qIfBkwiI"
      },
      "execution_count": null,
      "outputs": []
    }
  ]
}