{
  "nbformat": 4,
  "nbformat_minor": 0,
  "metadata": {
    "colab": {
      "provenance": [],
      "include_colab_link": true
    },
    "kernelspec": {
      "name": "python3",
      "display_name": "Python 3"
    },
    "language_info": {
      "name": "python"
    }
  },
  "cells": [
    {
      "cell_type": "markdown",
      "metadata": {
        "id": "view-in-github",
        "colab_type": "text"
      },
      "source": [
        "<a href=\"https://colab.research.google.com/github/anskong/ai_ref_from_lessons/blob/main/LGCNS_LangChain_009.ipynb\" target=\"_parent\"><img src=\"https://colab.research.google.com/assets/colab-badge.svg\" alt=\"Open In Colab\"/></a>"
      ]
    },
    {
      "cell_type": "markdown",
      "source": [
        "# StrOutputParser 사용예제"
      ],
      "metadata": {
        "id": "NWOxrwHo3cov"
      }
    },
    {
      "cell_type": "code",
      "execution_count": null,
      "metadata": {
        "colab": {
          "base_uri": "https://localhost:8080/"
        },
        "id": "qLoQrqya3bpb",
        "outputId": "6e84f198-d93b-4725-c25d-4efda8a07f9f"
      },
      "outputs": [
        {
          "output_type": "stream",
          "name": "stdout",
          "text": [
            "\u001b[?25l   \u001b[90m━━━━━━━━━━━━━━━━━━━━━━━━━━━━━━━━━━━━━━━━\u001b[0m \u001b[32m0.0/438.3 kB\u001b[0m \u001b[31m?\u001b[0m eta \u001b[36m-:--:--\u001b[0m\r\u001b[2K   \u001b[91m━━━━━━━━━━━━━━━━━━━━━━━━━━\u001b[0m\u001b[90m╺\u001b[0m\u001b[90m━━━━━━━━━━━━━\u001b[0m \u001b[32m286.7/438.3 kB\u001b[0m \u001b[31m9.7 MB/s\u001b[0m eta \u001b[36m0:00:01\u001b[0m\r\u001b[2K   \u001b[90m━━━━━━━━━━━━━━━━━━━━━━━━━━━━━━━━━━━━━━━━\u001b[0m \u001b[32m438.3/438.3 kB\u001b[0m \u001b[31m7.1 MB/s\u001b[0m eta \u001b[36m0:00:00\u001b[0m\n",
            "\u001b[?25h"
          ]
        }
      ],
      "source": [
        "# 1) 필수 패키지 설치\n",
        "!pip install --quiet --upgrade \"langchain-core>=0.3.0\""
      ]
    },
    {
      "cell_type": "code",
      "source": [
        "# 2) 필요한 모듈 임포트\n",
        "from langchain_core.output_parsers import StrOutputParser\n",
        "from langchain_core.messages import AIMessage\n",
        "\n",
        "# 3) AIMessage와 일반 문자열 정의\n",
        "message = AIMessage(content=\"안녕하세요.\")\n",
        "s = \"안녕하세요.\"\n",
        "\n",
        "# 4) 파서 인스턴스화 및 호출\n",
        "parser = StrOutputParser()\n",
        "result1 = parser.invoke(message)\n",
        "result2 = parser.invoke(s)\n",
        "\n",
        "# 5) 출력\n",
        "print(\"=== AIMessage 입력 ===\")\n",
        "print(result1)\n",
        "\n",
        "print(\"\\n=== 문자열 입력 ===\")\n",
        "print(result2)"
      ],
      "metadata": {
        "colab": {
          "base_uri": "https://localhost:8080/"
        },
        "id": "w-uZlaMz-2lI",
        "outputId": "0b1e0ac0-7a42-494b-869e-2f5b22c81fab"
      },
      "execution_count": null,
      "outputs": [
        {
          "output_type": "stream",
          "name": "stdout",
          "text": [
            "=== AIMessage 입력 ===\n",
            "안녕하세요.\n",
            "\n",
            "=== 문자열 입력 ===\n",
            "안녕하세요.\n"
          ]
        }
      ]
    },
    {
      "cell_type": "markdown",
      "source": [],
      "metadata": {
        "id": "NihXYWRU_M7q"
      }
    }
  ]
}