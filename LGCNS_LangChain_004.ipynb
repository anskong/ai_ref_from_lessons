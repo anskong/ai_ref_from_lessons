{
  "nbformat": 4,
  "nbformat_minor": 0,
  "metadata": {
    "colab": {
      "provenance": [],
      "include_colab_link": true
    },
    "kernelspec": {
      "name": "python3",
      "display_name": "Python 3"
    },
    "language_info": {
      "name": "python"
    }
  },
  "cells": [
    {
      "cell_type": "markdown",
      "metadata": {
        "id": "view-in-github",
        "colab_type": "text"
      },
      "source": [
        "<a href=\"https://colab.research.google.com/github/anskong/ai_ref_from_lessons/blob/main/LGCNS_LangChain_004.ipynb\" target=\"_parent\"><img src=\"https://colab.research.google.com/assets/colab-badge.svg\" alt=\"Open In Colab\"/></a>"
      ]
    },
    {
      "cell_type": "markdown",
      "source": [
        "# 간단한 데이터 모델을 이용한 출력구조화 예제\n",
        "\n"
      ],
      "metadata": {
        "id": "sjvt-KLbWZhT"
      }
    },
    {
      "cell_type": "code",
      "execution_count": null,
      "metadata": {
        "colab": {
          "base_uri": "https://localhost:8080/"
        },
        "id": "9tJGA3vsWXgG",
        "outputId": "c3a04f89-8782-462c-bb21-efb4a7507922"
      },
      "outputs": [
        {
          "output_type": "stream",
          "name": "stdout",
          "text": [
            "\u001b[2K     \u001b[90m━━━━━━━━━━━━━━━━━━━━━━━━━━━━━━━━━━━━━━━━\u001b[0m \u001b[32m67.2/67.2 kB\u001b[0m \u001b[31m1.7 MB/s\u001b[0m eta \u001b[36m0:00:00\u001b[0m\n",
            "\u001b[2K   \u001b[90m━━━━━━━━━━━━━━━━━━━━━━━━━━━━━━━━━━━━━━━━\u001b[0m \u001b[32m63.4/63.4 kB\u001b[0m \u001b[31m1.4 MB/s\u001b[0m eta \u001b[36m0:00:00\u001b[0m\n",
            "\u001b[2K   \u001b[90m━━━━━━━━━━━━━━━━━━━━━━━━━━━━━━━━━━━━━━━━\u001b[0m \u001b[32m438.3/438.3 kB\u001b[0m \u001b[31m14.9 MB/s\u001b[0m eta \u001b[36m0:00:00\u001b[0m\n",
            "\u001b[2K   \u001b[90m━━━━━━━━━━━━━━━━━━━━━━━━━━━━━━━━━━━━━━━━\u001b[0m \u001b[32m444.2/444.2 kB\u001b[0m \u001b[31m11.4 MB/s\u001b[0m eta \u001b[36m0:00:00\u001b[0m\n",
            "\u001b[2K   \u001b[90m━━━━━━━━━━━━━━━━━━━━━━━━━━━━━━━━━━━━━━━━\u001b[0m \u001b[32m720.4/720.4 kB\u001b[0m \u001b[31m13.3 MB/s\u001b[0m eta \u001b[36m0:00:00\u001b[0m\n",
            "\u001b[?25h"
          ]
        }
      ],
      "source": [
        "# 1) LangChain-OpenAI, LangChain-Core, Pydantic, OpenAI SDK 설치 (v0.3.0 이상)\n",
        "!pip install --quiet --upgrade \"langchain-openai>=0.3.0\" \"langchain-core>=0.3.0\" pydantic openai"
      ]
    },
    {
      "cell_type": "code",
      "source": [
        "# 2) Colab Secrets에서 API 키 로드\n",
        "import os\n",
        "from google.colab import userdata\n",
        "\n",
        "# API 키 등록\n",
        "os.environ[\"OPENAI_API_KEY\"] = userdata.get(\"OPENAI_API_KEY\")\n",
        "OPENAI_API_KEY = os.getenv(\"OPENAI_API_KEY\")\n",
        "\n",
        "# 3) 필수 모듈 임포트\n",
        "from langchain_openai import ChatOpenAI\n",
        "from pydantic import BaseModel, Field\n",
        "from typing import Literal\n",
        "\n",
        "# 4) Pydantic 모델 정의\n",
        "class CelestialBody(BaseModel):\n",
        "    name: str = Field(description=\"천체의 이름(한글 표기)\")\n",
        "    radius: float = Field(description=\"천체 반경 (km)\")\n",
        "    mass: float = Field(description=\"천체 질량 (kg)\")\n",
        "    type: Literal[\"항성\", \"행성\", \"위성\"] = Field(description=\"천체 종류\")\n",
        "\n",
        "# 5) LLM 인스턴스 생성 및 구조화된 출력 설정\n",
        "llm = ChatOpenAI(\n",
        "    openai_api_key=OPENAI_API_KEY,\n",
        "    model_name=\"gpt-4.1-nano\",  # 필요에 따라 모델명 조정\n",
        ")\n",
        "llm_structured = llm.with_structured_output(CelestialBody)\n",
        "\n",
        "# 6) 호출 및 결과 획득\n",
        "jupiter: CelestialBody = llm_structured.invoke(\"목성의 속성 정보를 알려주세요.\")\n",
        "\n",
        "# 7) 출력\n",
        "print(f\"목성 이름: {jupiter.name}\")\n",
        "print(f\"목성 반경: {jupiter.radius} km\")\n",
        "print(f\"목성 질량: {jupiter.mass} kg\")\n",
        "print(f\"목성 유형: {jupiter.type}\")\n"
      ],
      "metadata": {
        "colab": {
          "base_uri": "https://localhost:8080/"
        },
        "id": "r0wHmjjydPoK",
        "outputId": "6e97accc-129c-446e-cd87-20986f09ffbd"
      },
      "execution_count": null,
      "outputs": [
        {
          "output_type": "stream",
          "name": "stdout",
          "text": [
            "목성 이름: 목성\n",
            "목성 반경: 69911.0 km\n",
            "목성 질량: 1.898e+27 kg\n",
            "목성 유형: 행성\n"
          ]
        }
      ]
    },
    {
      "cell_type": "markdown",
      "source": [
        "# 중첩 데이터 모델을 이용한 출력구조"
      ],
      "metadata": {
        "id": "mCXpuII-eSlf"
      }
    },
    {
      "cell_type": "code",
      "source": [
        "# 1) LangChain-OpenAI, LangChain-Core, Pydantic, OpenAI SDK 설치 (v0.3.0 이상)\n",
        "!pip install --quiet --upgrade \"langchain-openai>=0.3.0\" \"langchain-core>=0.3.0\" pydantic openai"
      ],
      "metadata": {
        "id": "z7auW0DWe7Qk"
      },
      "execution_count": null,
      "outputs": []
    },
    {
      "cell_type": "code",
      "source": [
        "# 2) Colab Secrets에서 API 키 로드\n",
        "import os\n",
        "from google.colab import userdata\n",
        "\n",
        "# API 키 등록\n",
        "os.environ[\"OPENAI_API_KEY\"] = userdata.get(\"OPENAI_API_KEY\")\n",
        "OPENAI_API_KEY = os.getenv(\"OPENAI_API_KEY\")\n",
        "\n",
        "# 3) 필요한 모듈 임포트\n",
        "from langchain_openai import ChatOpenAI\n",
        "from pydantic import BaseModel, Field\n",
        "from typing import List\n",
        "\n",
        "# 4) Pydantic 모델 정의\n",
        "class CelestialBody(BaseModel):\n",
        "    name: str   = Field(description=\"천체 이름\")\n",
        "    radius: float = Field(description=\"천체 반경（km）\")\n",
        "    mass: float   = Field(description=\"천체의 질량（kg）\")\n",
        "    type: str     = Field(description=\"천체종류（행성, 항성, 위성 등）\")\n",
        "\n",
        "class PlanetarySystem(BaseModel):\n",
        "    planets: List[CelestialBody]    = Field(description=\"행성 목록\")\n",
        "    center_body: CelestialBody      = Field(description=\"중심이 되는 항성\")\n",
        "    age: float                      = Field(description=\"행성계 연령 (억 년 단위 등)\")\n",
        "    name: str                       = Field(description=\"행성계 이름\")\n",
        "\n",
        "# 5) LLM 초기화 및 구조화된 출력 설정\n",
        "llm = ChatOpenAI(openai_api_key=OPENAI_API_KEY)\n",
        "llm_structured = llm.with_structured_output(PlanetarySystem)\n",
        "\n",
        "# 6) 호출 및 결과 획득\n",
        "solar_system: PlanetarySystem = llm_structured.invoke(\"태양계 정보를 알려주세요\")\n",
        "\n",
        "# 7) 결과 출력\n",
        "print(f\"시스템명: {solar_system.name}\")\n",
        "print(f\"중심천체: {solar_system.center_body.name}\")\n",
        "print(f\"행성계 연령: {solar_system.age}\")\n",
        "print(\"행성 목록:\")\n",
        "for planet in solar_system.planets:\n",
        "    print(f\"- {planet.name}\")\n",
        "    print(f\"    종류: {planet.type}\")\n",
        "    print(f\"    반경: {planet.radius} km\")\n",
        "    print(f\"    질량: {planet.mass} kg\")"
      ],
      "metadata": {
        "id": "S06isd0HfYoM",
        "colab": {
          "base_uri": "https://localhost:8080/"
        },
        "outputId": "8ea809fb-cfe5-44aa-b920-ba162991492e"
      },
      "execution_count": null,
      "outputs": [
        {
          "output_type": "stream",
          "name": "stderr",
          "text": [
            "/usr/local/lib/python3.11/dist-packages/langchain_openai/chat_models/base.py:1669: UserWarning: Cannot use method='json_schema' with model gpt-3.5-turbo since it doesn't support OpenAI's Structured Output API. You can see supported models here: https://platform.openai.com/docs/guides/structured-outputs#supported-models. To fix this warning, set `method='function_calling'. Overriding to method='function_calling'.\n",
            "  warnings.warn(\n"
          ]
        },
        {
          "output_type": "stream",
          "name": "stdout",
          "text": [
            "시스템명: 태양계\n",
            "중심천체: 태양\n",
            "행성계 연령: 4567.0\n",
            "행성 목록:\n",
            "- 수성\n",
            "    종류: 행성\n",
            "    반경: 2439.7 km\n",
            "    질량: 3.3011e+23 kg\n",
            "- 금성\n",
            "    종류: 행성\n",
            "    반경: 6051.8 km\n",
            "    질량: 4.8675e+24 kg\n",
            "- 지구\n",
            "    종류: 행성\n",
            "    반경: 6371.0 km\n",
            "    질량: 5.97237e+24 kg\n",
            "- 화성\n",
            "    종류: 행성\n",
            "    반경: 3389.5 km\n",
            "    질량: 6.4171e+23 kg\n",
            "- 목성\n",
            "    종류: 행성\n",
            "    반경: 69911.0 km\n",
            "    질량: 1.8982e+27 kg\n",
            "- 토성\n",
            "    종류: 행성\n",
            "    반경: 58232.0 km\n",
            "    질량: 5.6834e+26 kg\n",
            "- 천왕성\n",
            "    종류: 행성\n",
            "    반경: 25362.0 km\n",
            "    질량: 8.681e+25 kg\n",
            "- 해왕성\n",
            "    종류: 행성\n",
            "    반경: 24622.0 km\n",
            "    질량: 1.02413e+26 kg\n"
          ]
        }
      ]
    }
  ]
}