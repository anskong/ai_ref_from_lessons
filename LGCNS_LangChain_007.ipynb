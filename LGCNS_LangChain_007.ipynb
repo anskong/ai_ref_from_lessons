{
  "nbformat": 4,
  "nbformat_minor": 0,
  "metadata": {
    "colab": {
      "provenance": [],
      "include_colab_link": true
    },
    "kernelspec": {
      "name": "python3",
      "display_name": "Python 3"
    },
    "language_info": {
      "name": "python"
    }
  },
  "cells": [
    {
      "cell_type": "markdown",
      "metadata": {
        "id": "view-in-github",
        "colab_type": "text"
      },
      "source": [
        "<a href=\"https://colab.research.google.com/github/anskong/ai_ref_from_lessons/blob/main/LGCNS_LangChain_007.ipynb\" target=\"_parent\"><img src=\"https://colab.research.google.com/assets/colab-badge.svg\" alt=\"Open In Colab\"/></a>"
      ]
    },
    {
      "cell_type": "markdown",
      "source": [
        "# 메시지 프롬프트 템플릿 사용의 예제\n"
      ],
      "metadata": {
        "id": "qZ1eHHW4xbZv"
      }
    },
    {
      "cell_type": "code",
      "execution_count": null,
      "metadata": {
        "colab": {
          "base_uri": "https://localhost:8080/"
        },
        "id": "pCvAEOPCxW_-",
        "outputId": "ce50f04b-da36-4cb2-d1af-7a0e957b0fde"
      },
      "outputs": [
        {
          "output_type": "stream",
          "name": "stdout",
          "text": [
            "\u001b[2K   \u001b[90m━━━━━━━━━━━━━━━━━━━━━━━━━━━━━━━━━━━━━━━━\u001b[0m \u001b[32m438.3/438.3 kB\u001b[0m \u001b[31m6.9 MB/s\u001b[0m eta \u001b[36m0:00:00\u001b[0m\n",
            "\u001b[2K   \u001b[90m━━━━━━━━━━━━━━━━━━━━━━━━━━━━━━━━━━━━━━━━\u001b[0m \u001b[32m63.4/63.4 kB\u001b[0m \u001b[31m2.2 MB/s\u001b[0m eta \u001b[36m0:00:00\u001b[0m\n",
            "\u001b[2K   \u001b[90m━━━━━━━━━━━━━━━━━━━━━━━━━━━━━━━━━━━━━━━━\u001b[0m \u001b[32m720.4/720.4 kB\u001b[0m \u001b[31m15.4 MB/s\u001b[0m eta \u001b[36m0:00:00\u001b[0m\n",
            "\u001b[?25h"
          ]
        }
      ],
      "source": [
        "# 1) 필요한 패키지 설치 (LangChain 0.3.0 이상)\n",
        "!pip install --quiet --upgrade \"langchain-core>=0.3.0\" \"langchain-openai>=0.3.0\" openai"
      ]
    },
    {
      "cell_type": "code",
      "source": [
        "# 2) OPENAI_API_KEY 환경변수 로드\n",
        "import os\n",
        "from google.colab import userdata\n",
        "\n",
        "# API 키 등록\n",
        "os.environ[\"OPENAI_API_KEY\"] = userdata.get(\"OPENAI_API_KEY\")\n",
        "OPENAI_API_KEY = os.getenv(\"OPENAI_API_KEY\")\n",
        "\n",
        "# 3) 모듈 임포트\n",
        "from langchain_openai import ChatOpenAI\n",
        "from langchain_core.messages import AIMessage\n",
        "from langchain_core.prompts import (\n",
        "    ChatPromptTemplate,\n",
        "    SystemMessagePromptTemplate,\n",
        "    HumanMessagePromptTemplate,\n",
        ")\n",
        "\n",
        "# 4) ChatPromptTemplate 정의\n",
        "chat_template = ChatPromptTemplate.from_messages([\n",
        "    SystemMessagePromptTemplate.from_template(\"당신의 이름은 {ai_name}입니다.\"),\n",
        "    HumanMessagePromptTemplate.from_template(\"내 이름은 {human_name}입니다.\"),\n",
        "    AIMessage(\"안녕하세요.\"),\n",
        "    HumanMessagePromptTemplate.from_template(\"{input}\"),\n",
        "])\n",
        "\n",
        "# 5) 변수 채워넣기\n",
        "prompt = chat_template.invoke({\n",
        "    \"ai_name\": \"SAL 9000\",\n",
        "    \"human_name\": \"헤이우드\",\n",
        "    \"input\": \"내 이름을 알 수 있나요?\"\n",
        "})\n",
        "\n",
        "# 6) LLM 호출\n",
        "llm = ChatOpenAI(\n",
        "    openai_api_key=OPENAI_API_KEY,\n",
        "    model=\"gpt-4.1-nano\"  # 또는 gpt-40-mini 등\n",
        ")\n",
        "response = llm.invoke(prompt)\n",
        "\n",
        "# 7) 출력\n",
        "print(\"=== 프롬프트 ===\")\n",
        "print(prompt)\n",
        "print(\"\\n=== 모델 응답 ===\")\n",
        "print(response.content)"
      ],
      "metadata": {
        "colab": {
          "base_uri": "https://localhost:8080/"
        },
        "id": "q7BKoJUUxvq2",
        "outputId": "bd526391-32b7-4217-ca7d-7fc2c4cd5522"
      },
      "execution_count": null,
      "outputs": [
        {
          "output_type": "stream",
          "name": "stdout",
          "text": [
            "=== 프롬프트 ===\n",
            "messages=[SystemMessage(content='당신의 이름은 SAL 9000입니다.', additional_kwargs={}, response_metadata={}), HumanMessage(content='내 이름은 헤이우드입니다.', additional_kwargs={}, response_metadata={}), AIMessage(content='안녕하세요.', additional_kwargs={}, response_metadata={}), HumanMessage(content='내 이름을 알 수 있나요?', additional_kwargs={}, response_metadata={})]\n",
            "\n",
            "=== 모델 응답 ===\n",
            "네, 알고 있습니다. 당신의 이름은 헤이우드입니다.\n"
          ]
        }
      ]
    }
  ]
}