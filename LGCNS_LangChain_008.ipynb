{
  "nbformat": 4,
  "nbformat_minor": 0,
  "metadata": {
    "colab": {
      "provenance": [],
      "include_colab_link": true
    },
    "kernelspec": {
      "name": "python3",
      "display_name": "Python 3"
    },
    "language_info": {
      "name": "python"
    }
  },
  "cells": [
    {
      "cell_type": "markdown",
      "metadata": {
        "id": "view-in-github",
        "colab_type": "text"
      },
      "source": [
        "<a href=\"https://colab.research.google.com/github/anskong/ai_ref_from_lessons/blob/main/LGCNS_LangChain_008.ipynb\" target=\"_parent\"><img src=\"https://colab.research.google.com/assets/colab-badge.svg\" alt=\"Open In Colab\"/></a>"
      ]
    },
    {
      "cell_type": "markdown",
      "source": [
        "# 메시지자리 표시자를 이용한 챗팅 시스템 구축\n"
      ],
      "metadata": {
        "id": "e8Pxypl02C7c"
      }
    },
    {
      "cell_type": "code",
      "execution_count": null,
      "metadata": {
        "colab": {
          "base_uri": "https://localhost:8080/"
        },
        "id": "XBdvJWYR2CVv",
        "outputId": "f39a542e-7b23-4106-aa6e-4a87101989fd"
      },
      "outputs": [
        {
          "output_type": "stream",
          "name": "stdout",
          "text": [
            "\u001b[?25l   \u001b[90m━━━━━━━━━━━━━━━━━━━━━━━━━━━━━━━━━━━━━━━━\u001b[0m \u001b[32m0.0/438.3 kB\u001b[0m \u001b[31m?\u001b[0m eta \u001b[36m-:--:--\u001b[0m\r\u001b[2K   \u001b[91m━━━━━━━━━━━━━━━━━━━━━━━━━━━━━━━━━━━━━━━\u001b[0m\u001b[90m╺\u001b[0m \u001b[32m430.1/438.3 kB\u001b[0m \u001b[31m16.4 MB/s\u001b[0m eta \u001b[36m0:00:01\u001b[0m\r\u001b[2K   \u001b[90m━━━━━━━━━━━━━━━━━━━━━━━━━━━━━━━━━━━━━━━━\u001b[0m \u001b[32m438.3/438.3 kB\u001b[0m \u001b[31m6.7 MB/s\u001b[0m eta \u001b[36m0:00:00\u001b[0m\n",
            "\u001b[?25h\u001b[?25l   \u001b[90m━━━━━━━━━━━━━━━━━━━━━━━━━━━━━━━━━━━━━━━━\u001b[0m \u001b[32m0.0/63.4 kB\u001b[0m \u001b[31m?\u001b[0m eta \u001b[36m-:--:--\u001b[0m\r\u001b[2K   \u001b[90m━━━━━━━━━━━━━━━━━━━━━━━━━━━━━━━━━━━━━━━━\u001b[0m \u001b[32m63.4/63.4 kB\u001b[0m \u001b[31m2.3 MB/s\u001b[0m eta \u001b[36m0:00:00\u001b[0m\n",
            "\u001b[?25h\u001b[?25l   \u001b[90m━━━━━━━━━━━━━━━━━━━━━━━━━━━━━━━━━━━━━━━━\u001b[0m \u001b[32m0.0/720.4 kB\u001b[0m \u001b[31m?\u001b[0m eta \u001b[36m-:--:--\u001b[0m\r\u001b[2K   \u001b[90m━━━━━━━━━━━━━━━━━━━━━━━━━━━━━━━━━━━━━━━━\u001b[0m \u001b[32m720.4/720.4 kB\u001b[0m \u001b[31m29.3 MB/s\u001b[0m eta \u001b[36m0:00:00\u001b[0m\n",
            "\u001b[?25h"
          ]
        }
      ],
      "source": [
        "# 1) LangChain 및 필수 라이브러리 설치\n",
        "!pip install --quiet --upgrade \"langchain-core>=0.3.0\" \"langchain-openai>=0.3.0\" openai"
      ]
    },
    {
      "cell_type": "code",
      "source": [
        "# 2) 환경변수에서 OPENAI_API_KEY 로드 (Colab Tools > Secrets에서 등록)\n",
        "import os\n",
        "from google.colab import userdata\n",
        "\n",
        "# API 키 등록\n",
        "os.environ[\"OPENAI_API_KEY\"] = userdata.get(\"OPENAI_API_KEY\")\n",
        "OPENAI_API_KEY = os.getenv(\"OPENAI_API_KEY\")\n",
        "\n",
        "# 3) 모듈 임포트\n",
        "from langchain_openai import ChatOpenAI\n",
        "from langchain_core.messages import HumanMessage, AIMessage\n",
        "from langchain_core.prompts import (\n",
        "    ChatPromptTemplate,\n",
        "    SystemMessagePromptTemplate,\n",
        "    HumanMessagePromptTemplate,\n",
        "    MessagesPlaceholder,\n",
        ")\n",
        "\n",
        "# 4) 템플릿 정의\n",
        "chat_template = ChatPromptTemplate.from_messages([\n",
        "    SystemMessagePromptTemplate.from_template(\"귀하의 이름은 {ai_name}입니다.\"),\n",
        "    MessagesPlaceholder(\"chat_history\"),\n",
        "    HumanMessagePromptTemplate.from_template(\"{input}\"),\n",
        "])\n",
        "\n",
        "# 5) LLM 인스턴스 생성\n",
        "llm = ChatOpenAI(\n",
        "    openai_api_key=OPENAI_API_KEY,\n",
        "    model=\"gpt-4o-mini\"  # 또는 gpt-3.5-turbo\n",
        ")\n",
        "\n",
        "# 6) 대화 함수 정의\n",
        "def chat(input_text, history):\n",
        "    messages = chat_template.invoke({\n",
        "        \"ai_name\": \"SAL 9000\",\n",
        "        \"chat_history\": history,\n",
        "        \"input\": input_text\n",
        "    })\n",
        "    ai_message = llm.invoke(messages)\n",
        "    history.append(HumanMessage(content=input_text))\n",
        "    history.append(ai_message)\n",
        "    return ai_message.content\n",
        "\n",
        "# 7) 대화 시작 (Colab에서는 수동 반복 실행)\n",
        "# history는 셀 바깥에 저장되어야 누적됨\n",
        "history = []\n",
        "\n",
        "# 예시 사용\n",
        "user_input = \"내 이름이 뭐죠?\"\n",
        "ai_response = chat(user_input, history)\n",
        "print(\"AI:\", ai_response)\n",
        "\n",
        "# 이후 반복 사용 예:\n",
        "# user_input = \"내가 방금 뭐라고 했지?\"\n",
        "# print(\"AI:\", chat(user_input, history))"
      ],
      "metadata": {
        "colab": {
          "base_uri": "https://localhost:8080/"
        },
        "id": "iwT-YLtk2D32",
        "outputId": "27d5ffe4-9552-468d-c650-6f5110cf80cb"
      },
      "execution_count": null,
      "outputs": [
        {
          "output_type": "stream",
          "name": "stdout",
          "text": [
            "AI: 죄송하지만, 당신의 이름을 알 수 없습니다. 당신의 이름을 알려주실 수 있을까요?\n"
          ]
        }
      ]
    },
    {
      "cell_type": "markdown",
      "source": [
        "한번 실행후, 아래와 같이 새 셀에 입력하고 호출합니다."
      ],
      "metadata": {
        "id": "z6SQxTZQ2YVI"
      }
    },
    {
      "cell_type": "code",
      "source": [
        "print(\"AI:\", chat(\"이번엔 지구에 대해 알려줘\", history))"
      ],
      "metadata": {
        "colab": {
          "base_uri": "https://localhost:8080/"
        },
        "id": "yAbUyFU_2dBK",
        "outputId": "c140eaa1-3067-465c-9206-ad097de53c24"
      },
      "execution_count": null,
      "outputs": [
        {
          "output_type": "stream",
          "name": "stdout",
          "text": [
            "AI: 지구는 태양계의 세 번째 행성이자 인류의 거주지입니다. 지구는 약 46억 년 전에 형성되었으며, 다음과 같은 주요 특징이 있습니다:\n",
            "\n",
            "1. **구조**: 지구는 여러 층으로 구성되어 있습니다. 중심에는 고온의 금속(주로 철)로 된 핵이 있으며, 그 위에는 액체 외핵과 고체 맨틀, 그리고 가장 바깥쪽에는 지각이 있습니다.\n",
            "\n",
            "2. **대기**: 지구의 대기는 질소(약 78%)와 산소(약 21%)를 주성분으로 하고 있으며, 이로 인해 생명체가 숨을 쉴 수 있는 환경을 제공합니다. 대기는 또한 온실가스를 포함해 지구의 기후를 조절하는 데에도 중요한 역할을 합니다.\n",
            "\n",
            "3. **물과 생명**: 지구는 70%가 물로 덮여 있으며, 이 중 대부분은 바다입니다. 물은 생명체의 기초이며, 다양한 생태계가 형성되어 있습니다.\n",
            "\n",
            "4. **자전과 공전**: 지구는 자전축을 중심으로 하루에 한 번 자전하며, 이로 인해 낮과 밤이 형성됩니다. 또한, 태양 주위를 한 바퀴 도는 공전에는 약 365일이 소요됩니다.\n",
            "\n",
            "5. **기후**: 지구의 기후는 다양한 환경을 형성하며, 극지방, 온대, 열대 등 여러 가지 기후대가 존재합니다. 기후는 해양과 대기의 상호작용, 지형, 태양의 에너지 등 여러 요인에 의해 영향을 받습니다.\n",
            "\n",
            "지구는 인류를 포함한 다양한 생명체의 서식지이며, 지구 환경 보호와 지속 가능한 개발이 중요한 이슈로 대두되고 있습니다. 추가적인 정보가 필요하시면 말씀해 주세요!\n"
          ]
        }
      ]
    }
  ]
}