{
  "nbformat": 4,
  "nbformat_minor": 0,
  "metadata": {
    "colab": {
      "provenance": [],
      "include_colab_link": true
    },
    "kernelspec": {
      "name": "python3",
      "display_name": "Python 3"
    },
    "language_info": {
      "name": "python"
    }
  },
  "cells": [
    {
      "cell_type": "markdown",
      "metadata": {
        "id": "view-in-github",
        "colab_type": "text"
      },
      "source": [
        "<a href=\"https://colab.research.google.com/github/anskong/ai_ref_from_lessons/blob/main/LGCNS_LangChain_002.ipynb\" target=\"_parent\"><img src=\"https://colab.research.google.com/assets/colab-badge.svg\" alt=\"Open In Colab\"/></a>"
      ]
    },
    {
      "cell_type": "markdown",
      "source": [
        "# 스트림 호출을 통한 대화모델 호출\n"
      ],
      "metadata": {
        "id": "dCXajk9dSzrZ"
      }
    },
    {
      "cell_type": "code",
      "execution_count": null,
      "metadata": {
        "id": "HjSVE_DaSyWM"
      },
      "outputs": [],
      "source": [
        "# 1) LangChain 및 OpenAI SDK 설치 (v0.3.0 이상)\n",
        "!pip install --quiet --upgrade langchain-openai>=0.3.0 langchain-core openai"
      ]
    },
    {
      "cell_type": "code",
      "source": [
        "# 2) Colab Secrets에서 API 키 로드\n",
        "import os\n",
        "from google.colab import userdata\n",
        "\n",
        "# API 키 등록\n",
        "os.environ[\"OPENAI_API_KEY\"] = userdata.get(\"OPENAI_API_KEY\")\n",
        "OPENAI_API_KEY = os.getenv(\"OPENAI_API_KEY\")\n",
        "\n",
        "# 3) ChatOpenAI 임포트 및 인스턴스 생성 (스트리밍 활성화)\n",
        "from langchain_openai import ChatOpenAI\n",
        "\n",
        "llm = ChatOpenAI(\n",
        "    openai_api_key=OPENAI_API_KEY,\n",
        "    model_name=\"gpt-4.1-nano\",\n",
        "    streaming=True,\n",
        ")\n",
        "\n",
        "# 4) 스트림 호출 예제\n",
        "print(\"AI: \", end=\"\", flush=True)\n",
        "for chunk in llm.stream(\"안녕하세요\"):\n",
        "    print(chunk.content, end=\"\", flush=True)\n",
        "print()  # 마지막에 개행"
      ],
      "metadata": {
        "colab": {
          "base_uri": "https://localhost:8080/"
        },
        "id": "YjcDQDJ-TOB-",
        "outputId": "f09ae5dd-6ca3-44ad-884b-e44252ff8319"
      },
      "execution_count": null,
      "outputs": [
        {
          "output_type": "stream",
          "name": "stdout",
          "text": [
            "AI: 안녕하세요! 어떻게 도와드릴까요?\n"
          ]
        }
      ]
    }
  ]
}