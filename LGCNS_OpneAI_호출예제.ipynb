{
  "nbformat": 4,
  "nbformat_minor": 0,
  "metadata": {
    "colab": {
      "provenance": [],
      "include_colab_link": true
    },
    "kernelspec": {
      "name": "python3",
      "display_name": "Python 3"
    },
    "language_info": {
      "name": "python"
    }
  },
  "cells": [
    {
      "cell_type": "markdown",
      "metadata": {
        "id": "view-in-github",
        "colab_type": "text"
      },
      "source": [
        "<a href=\"https://colab.research.google.com/github/anskong/ai_ref_from_lessons/blob/main/LGCNS_OpneAI_%ED%98%B8%EC%B6%9C%EC%98%88%EC%A0%9C.ipynb\" target=\"_parent\"><img src=\"https://colab.research.google.com/assets/colab-badge.svg\" alt=\"Open In Colab\"/></a>"
      ]
    },
    {
      "cell_type": "markdown",
      "source": [
        "# OpenAI 호출 예제"
      ],
      "metadata": {
        "id": "CVRKD0w2lI_6"
      }
    },
    {
      "cell_type": "markdown",
      "source": [
        "1. 아래 코드를 실행하면 OpenAI API Key를 입력하라는 프롬프트가 나옵니다.\n",
        "2. 키를 입력하면 gpt-4o-mini 모델로 \"안녕하세요.\" 메시지를 처리한 응답이 출력됩니다."
      ],
      "metadata": {
        "id": "W9wByHz1laQr"
      }
    },
    {
      "cell_type": "code",
      "execution_count": null,
      "metadata": {
        "colab": {
          "base_uri": "https://localhost:8080/"
        },
        "id": "N-5onh9FlIVG",
        "outputId": "f59152a2-316c-4b08-8dcc-89cac3963a13"
      },
      "outputs": [
        {
          "output_type": "stream",
          "name": "stdout",
          "text": [
            "OpenAI API키 입력: ··········\n",
            "Assistant: 안녕하세요! 어떻게 도와드릴까요?\n"
          ]
        }
      ],
      "source": [
        "import requests\n",
        "import json\n",
        "\n",
        "# Colab에서 API 키 입력받기\n",
        "import getpass\n",
        "OPENAI_API_KEY = getpass.getpass('OpenAI API키 입력: ')\n",
        "\n",
        "# API 엔드포인트 설정\n",
        "API_ENDPOINT = \"https://api.openai.com/v1/chat/completions\"\n",
        "\n",
        "# HTTP 요청 헤더 설정\n",
        "headers = {\n",
        "    \"Content-Type\": \"application/json\",\n",
        "    \"Authorization\": f\"Bearer {OPENAI_API_KEY}\"\n",
        "}\n",
        "\n",
        "# 요청 데이터 설정\n",
        "data = {\n",
        "    \"model\": \"gpt-4o-mini\",\n",
        "    \"messages\": [\n",
        "        {\"role\": \"system\", \"content\": \"You are a helpful assistant.\"},\n",
        "        {\"role\": \"user\", \"content\": \"안녕하세요.\"}\n",
        "    ]\n",
        "}\n",
        "\n",
        "# API 호출 (POST 요청)\n",
        "response = requests.post(API_ENDPOINT, headers=headers, data=json.dumps(data))\n",
        "\n",
        "# 응답 처리\n",
        "if response.status_code == 200:\n",
        "    result = response.json()\n",
        "    assistant_reply = result['choices'][0]['message']['content']\n",
        "    print(\"Assistant:\", assistant_reply)\n",
        "else:\n",
        "    print(\"Error:\", response.status_code)\n",
        "    print(response.text)"
      ]
    }
  ]
}