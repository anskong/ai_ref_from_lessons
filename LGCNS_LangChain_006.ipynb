{
  "cells": [
    {
      "cell_type": "markdown",
      "metadata": {
        "colab_type": "text",
        "id": "view-in-github"
      },
      "source": [
        "<a href=\"https://colab.research.google.com/github/anskong/ai_ref_from_lessons/blob/main/LGCNS_LangChain_006.ipynb\" target=\"_parent\"><img src=\"https://colab.research.google.com/assets/colab-badge.svg\" alt=\"Open In Colab\"/></a>"
      ]
    },
    {
      "cell_type": "markdown",
      "metadata": {
        "id": "g7MREvYztvSi"
      },
      "source": [
        "# 프롬프트 템플릿의 기본사용법 - 작동확인\n"
      ]
    },
    {
      "cell_type": "code",
      "execution_count": null,
      "metadata": {
        "colab": {
          "base_uri": "https://localhost:8080/"
        },
        "id": "vTr9C4y3tpVo",
        "outputId": "fa19ea55-fb50-4094-b473-c15b3482a5c0"
      },
      "outputs": [],
      "source": [
        "# 1) LangChain-Core 설치 (PromptTemplate은 langchain-core에 포함됨)\n",
        "# !pip install --quiet --upgrade \"langchain-core>=0.3.0\""
      ]
    },
    {
      "cell_type": "code",
      "execution_count": null,
      "metadata": {
        "id": "rCfvEwZDtx9Y"
      },
      "outputs": [],
      "source": [
        "# 2) PromptTemplate 임포트\n",
        "from langchain_core.prompts import PromptTemplate  # 최신 버전 기준 경로\n",
        "\n",
        "# 3) 템플릿 정의\n",
        "template = PromptTemplate.from_template(\n",
        "    \"행성 이름: {planet}\\n이 행성의 반지름과 질량은 얼마인가요?\"\n",
        ")\n",
        "\n",
        "# 4) 변수 삽입 후 프롬프트 생성\n",
        "prompt = template.invoke({\"planet\": \"토성\"})\n",
        "\n",
        "# 5) 결과 출력\n",
        "print(\"=== 생성된 프롬프트 ===\")\n",
        "print(prompt)"
      ]
    },
    {
      "cell_type": "markdown",
      "metadata": {
        "id": "cxA4MXO8uqdN"
      },
      "source": [
        "# 프롬프트 템플릿을 사용하여 행성 정보 얻기\n",
        "- OPENAI_API_KEY 등록부터 해두어야 함"
      ]
    },
    {
      "cell_type": "code",
      "execution_count": null,
      "metadata": {
        "id": "6MX5DEUlu5rn"
      },
      "outputs": [],
      "source": [
        "# 1) 필요한 패키지 설치\n",
        "# !pip install --quiet --upgrade \"langchain-core>=0.3.0\" \"langchain-openai>=0.3.0\" openai pydantic"
      ]
    },
    {
      "cell_type": "code",
      "execution_count": null,
      "metadata": {
        "colab": {
          "base_uri": "https://localhost:8080/"
        },
        "id": "wg6JvyMdvJoB",
        "outputId": "62ddf39b-e4d9-4a36-9816-3611ca86be36"
      },
      "outputs": [
        {
          "name": "stdout",
          "output_type": "stream",
          "text": [
            "=== 천체 정보 ===\n",
            "목성 반경: 69911.0 km\n",
            "지구 반경: 6371.0 km\n"
          ]
        }
      ],
      "source": [
        "# 2) Colab Secrets에서 OPENAI_API_KEY 불러오기\n",
        "import os\n",
        "from google.colab import userdata\n",
        "\n",
        "# API 키 등록\n",
        "os.environ[\"OPENAI_API_KEY\"] = userdata.get(\"OPENAI_API_KEY\")\n",
        "OPENAI_API_KEY = os.getenv(\"OPENAI_API_KEY\")\n",
        "\n",
        "\n",
        "# 3) 필수 모듈 임포트\n",
        "from langchain_openai import ChatOpenAI\n",
        "from langchain_core.prompts import PromptTemplate\n",
        "from pydantic import BaseModel, Field\n",
        "from typing import Literal\n",
        "\n",
        "# 4) 출력 스키마 정의\n",
        "class CelestialBody(BaseModel):\n",
        "    name: str = Field(description=\"천체이름\")\n",
        "    radius: float = Field(description=\"천체반경 (km)\")\n",
        "    mass: float = Field(description=\"천체질량 (kg)\")\n",
        "    type: Literal[\"항성\", \"행성\", \"위성\"] = Field(description=\"천체종류\")\n",
        "\n",
        "# 5) 프롬프트 템플릿 정의\n",
        "prompt_template = PromptTemplate.from_template(\"{planet}에 대한 정보를 알려주세요.\")\n",
        "\n",
        "# 6) LLM 설정 및 structured_output 바인딩\n",
        "llm = ChatOpenAI(\n",
        "    openai_api_key=OPENAI_API_KEY,\n",
        "    model=\"gpt-4o-mini\"  # 필요 시 변경 가능\n",
        ").with_structured_output(CelestialBody)\n",
        "\n",
        "# 7) 호출 및 결과 추출\n",
        "jupiter_prompt = prompt_template.invoke({\"planet\": \"목성\"})\n",
        "earth_prompt = prompt_template.invoke({\"planet\": \"지구\"})\n",
        "\n",
        "jupiter = llm.invoke(jupiter_prompt)\n",
        "earth = llm.invoke(earth_prompt)\n",
        "\n",
        "# 8) 출력\n",
        "print(\"=== 천체 정보 ===\")\n",
        "print(f\"목성 반경: {jupiter.radius} km\")\n",
        "print(f\"지구 반경: {earth.radius} km\")"
      ]
    }
  ],
  "metadata": {
    "colab": {
      "include_colab_link": true,
      "provenance": []
    },
    "kernelspec": {
      "display_name": "Python 3",
      "name": "python3"
    },
    "language_info": {
      "name": "python"
    }
  },
  "nbformat": 4,
  "nbformat_minor": 0
}
